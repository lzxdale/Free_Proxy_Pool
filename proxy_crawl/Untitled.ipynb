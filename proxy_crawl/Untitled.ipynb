{
 "cells": [
  {
   "cell_type": "code",
   "execution_count": 1,
   "metadata": {},
   "outputs": [],
   "source": [
    "import pandas as pd\n",
    "import requests "
   ]
  },
  {
   "cell_type": "code",
   "execution_count": 2,
   "metadata": {},
   "outputs": [],
   "source": [
    "temp = pd.read_csv('proxy_file.csv')"
   ]
  },
  {
   "cell_type": "code",
   "execution_count": 3,
   "metadata": {},
   "outputs": [],
   "source": [
    "thelist = list(temp['port'])"
   ]
  },
  {
   "cell_type": "code",
   "execution_count": 4,
   "metadata": {},
   "outputs": [
    {
     "data": {
      "text/plain": [
       "'38.124.142.4:8080'"
      ]
     },
     "execution_count": 4,
     "metadata": {},
     "output_type": "execute_result"
    }
   ],
   "source": [
    "thelist[1]"
   ]
  },
  {
   "cell_type": "code",
   "execution_count": 6,
   "metadata": {},
   "outputs": [
    {
     "name": "stdout",
     "output_type": "stream",
     "text": [
      "24.172.34.114:50437 not successful\n",
      "38.124.142.4:8080 not successful\n",
      "75.80.242.9:41007 not successful\n",
      "68.251.250.193:8080 not successful\n",
      "162.223.88.249:8080 not successful\n"
     ]
    }
   ],
   "source": [
    "good = []\n",
    "count = 0\n",
    "for i in thelist:\n",
    "    count +=1 \n",
    "    proxies = {\"http\": i} \n",
    "    try:\n",
    "        requests.get(\"http://google.com\", proxies=proxies, timeout=3)\n",
    "    except:\n",
    "        print(i, \"not successful\")\n",
    "    else:\n",
    "        print(i, 'successful')"
   ]
  },
  {
   "cell_type": "code",
   "execution_count": null,
   "metadata": {},
   "outputs": [],
   "source": [
    "## one poss soluction\n",
    "import requests\n",
    "import eventlet\n",
    "eventlet.monkey_patch()\n",
    "with eventlet.Timeout(10):\n",
    "    requests.get(\"http://ipv4.download.thinkbroadband.com/1GB.zip\", verify=False)"
   ]
  },
  {
   "cell_type": "code",
   "execution_count": 14,
   "metadata": {},
   "outputs": [
    {
     "data": {
      "text/plain": [
       "<generator object get_valid_proxy at 0x000002C72D780930>"
      ]
     },
     "execution_count": 14,
     "metadata": {},
     "output_type": "execute_result"
    }
   ],
   "source": [
    "get_valid_proxy(thelist)"
   ]
  },
  {
   "cell_type": "code",
   "execution_count": 18,
   "metadata": {},
   "outputs": [
    {
     "ename": "AttributeError",
     "evalue": "module 'urllib' has no attribute 'urlopen'",
     "output_type": "error",
     "traceback": [
      "\u001b[1;31m---------------------------------------------------------------------------\u001b[0m",
      "\u001b[1;31mAttributeError\u001b[0m                            Traceback (most recent call last)",
      "\u001b[1;32m<ipython-input-18-40358233c529>\u001b[0m in \u001b[0;36m<module>\u001b[1;34m\u001b[0m\n\u001b[0;32m      1\u001b[0m \u001b[1;32mtry\u001b[0m\u001b[1;33m:\u001b[0m\u001b[1;33m\u001b[0m\u001b[1;33m\u001b[0m\u001b[0m\n\u001b[1;32m----> 2\u001b[1;33m     urllib.urlopen(\n\u001b[0m\u001b[0;32m      3\u001b[0m         \u001b[1;34m\"http://example.com\"\u001b[0m\u001b[1;33m,\u001b[0m\u001b[1;33m\u001b[0m\u001b[1;33m\u001b[0m\u001b[0m\n\u001b[0;32m      4\u001b[0m         \u001b[0mproxies\u001b[0m\u001b[1;33m=\u001b[0m\u001b[1;33m{\u001b[0m\u001b[1;34m'http'\u001b[0m\u001b[1;33m:\u001b[0m\u001b[1;34m'http://example.com:8080'\u001b[0m\u001b[1;33m}\u001b[0m\u001b[1;33m\u001b[0m\u001b[1;33m\u001b[0m\u001b[0m\n\u001b[0;32m      5\u001b[0m     )\n",
      "\u001b[1;31mAttributeError\u001b[0m: module 'urllib' has no attribute 'urlopen'"
     ]
    }
   ],
   "source": []
  },
  {
   "cell_type": "code",
   "execution_count": 7,
   "metadata": {},
   "outputs": [
    {
     "name": "stdout",
     "output_type": "stream",
     "text": [
      "Producer is producing 1 to the queue!\n",
      "Consumer is consuming 1 in the queue.\n",
      "Producer is producing 2 to the queue!\n",
      "Consumer is consuming 2 in the queue.\n",
      "Producer is producing 3 to the queue!\n",
      "Consumer is consuming 3 in the queue.\n",
      "Producer is producing 4 to the queue!\n",
      "Consumer is consuming 4 in the queue.\n",
      "Producer finished!\n",
      "Consumer finished!\n",
      "All threads finished!\n"
     ]
    }
   ],
   "source": [
    "from queue import Queue\n",
    "import random, threading, time\n",
    "\n",
    "\n",
    "# 生产者类\n",
    "class Producer(threading.Thread):\n",
    "    def __init__(self, name, queue):\n",
    "        threading.Thread.__init__(self, name=name)\n",
    "        self.queue = queue\n",
    "\n",
    "    def run(self):\n",
    "        for i in range(1, 5):\n",
    "            print(\"{} is producing {} to the queue!\".format(self.getName(), i))\n",
    "            self.queue.put(i)\n",
    "            time.sleep(random.randrange(10) / 5)\n",
    "        print(\"%s finished!\" % self.getName())\n",
    "\n",
    "\n",
    "# 消费者类\n",
    "class Consumer(threading.Thread):\n",
    "    def __init__(self, name, queue):\n",
    "        threading.Thread.__init__(self, name=name)\n",
    "        self.queue = queue\n",
    "\n",
    "    def run(self):\n",
    "        for i in range(1, 5):\n",
    "            val = self.queue.get()\n",
    "            print(\"{} is consuming {} in the queue.\".format(self.getName(), val))\n",
    "            time.sleep(random.randrange(10))\n",
    "        print(\"%s finished!\" % self.getName())\n",
    "\n",
    "\n",
    "def main():\n",
    "    queue = Queue()\n",
    "    producer = Producer('Producer', queue)\n",
    "    consumer = Consumer('Consumer', queue)\n",
    "\n",
    "    producer.start()\n",
    "    consumer.start()\n",
    "\n",
    "    producer.join()\n",
    "    consumer.join()\n",
    "    print('All threads finished!')\n",
    "\n",
    "\n",
    "if __name__ == '__main__':\n",
    "    main()"
   ]
  },
  {
   "cell_type": "code",
   "execution_count": 9,
   "metadata": {},
   "outputs": [
    {
     "name": "stdout",
     "output_type": "stream",
     "text": [
      "这是主线程：MainThread\n",
      "当前子线程: Thread-11 任务1\n",
      "当前子线程: Thread-12 任务2\n",
      "结果: 1152921504606846976\n",
      "结果: 1152921504606846976\n",
      "总共用时2.019571542739868秒\n"
     ]
    }
   ],
   "source": [
    "import threading\n",
    "import time\n",
    "\n",
    "\n",
    "def long_time_task(i):\n",
    "    print('当前子线程: {} 任务{}'.format(threading.current_thread().name, i))\n",
    "    time.sleep(2)\n",
    "    print(\"结果: {}\".format(8 ** 20))\n",
    "\n",
    "\n",
    "if __name__=='__main__':\n",
    "    start = time.time()\n",
    "    print('这是主线程：{}'.format(threading.current_thread().name))\n",
    "    thread_list = []\n",
    "    for i in range(1, 3):\n",
    "        t = threading.Thread(target=long_time_task, args=(i, ))\n",
    "        thread_list.append(t)\n",
    "\n",
    "    for t in thread_list:\n",
    "        t.start()\n",
    "\n",
    "    for t in thread_list:\n",
    "        t.join()\n",
    "\n",
    "    end = time.time()\n",
    "    print(\"总共用时{}秒\".format((end - start)))"
   ]
  },
  {
   "cell_type": "code",
   "execution_count": 12,
   "metadata": {},
   "outputs": [
    {
     "name": "stdout",
     "output_type": "stream",
     "text": [
      "The final balance is: 0\n"
     ]
    }
   ],
   "source": [
    "# -*- coding: utf-8 -*\n",
    "\n",
    "import threading\n",
    "\n",
    "\n",
    "class Account:\n",
    "    def __init__(self):\n",
    "        self.balance = 0\n",
    "\n",
    "    def add(self, lock):\n",
    "        # 获得锁\n",
    "        lock.acquire()\n",
    "        for i in range(0, 100000):\n",
    "            self.balance += 1\n",
    "        # 释放锁\n",
    "        lock.release()\n",
    "\n",
    "    def delete(self, lock):\n",
    "        # 获得锁\n",
    "        lock.acquire()\n",
    "        for i in range(0, 100000):\n",
    "            self.balance -= 1\n",
    "            # 释放锁\n",
    "        lock.release()\n",
    "\n",
    "\n",
    "if __name__ == \"__main__\":\n",
    "    account = Account()\n",
    "    lock = threading.Lock()\n",
    "    # 创建线程\n",
    "    thread_add = threading.Thread(target=account.add, args=(lock,), name='Add')\n",
    "    thread_delete = threading.Thread(target=account.delete, args=(lock,), name='Delete')\n",
    "\n",
    "    # 启动线程\n",
    "    thread_add.start()\n",
    "    thread_delete.start()\n",
    "\n",
    "    # 等待线程结束\n",
    "    thread_add.join()\n",
    "    thread_delete.join()\n",
    "\n",
    "    print('The final balance is: {}'.format(account.balance))"
   ]
  },
  {
   "cell_type": "code",
   "execution_count": null,
   "metadata": {},
   "outputs": [],
   "source": []
  }
 ],
 "metadata": {
  "kernelspec": {
   "display_name": "Python 3",
   "language": "python",
   "name": "python3"
  },
  "language_info": {
   "codemirror_mode": {
    "name": "ipython",
    "version": 3
   },
   "file_extension": ".py",
   "mimetype": "text/x-python",
   "name": "python",
   "nbconvert_exporter": "python",
   "pygments_lexer": "ipython3",
   "version": "3.7.2"
  }
 },
 "nbformat": 4,
 "nbformat_minor": 2
}
